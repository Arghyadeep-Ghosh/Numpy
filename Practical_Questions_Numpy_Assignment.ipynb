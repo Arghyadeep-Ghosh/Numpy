{
  "nbformat": 4,
  "nbformat_minor": 0,
  "metadata": {
    "colab": {
      "provenance": []
    },
    "kernelspec": {
      "name": "python3",
      "display_name": "Python 3"
    },
    "language_info": {
      "name": "python"
    }
  },
  "cells": [
    {
      "cell_type": "code",
      "execution_count": 1,
      "metadata": {
        "colab": {
          "base_uri": "https://localhost:8080/"
        },
        "id": "ncZrA1x-rjyV",
        "outputId": "32033a1f-0776-4092-b292-1aceac6a1a81"
      },
      "outputs": [
        {
          "output_type": "stream",
          "name": "stdout",
          "text": [
            "Original array:\n",
            "[[ 60  26 100]\n",
            " [ 93  60  94]\n",
            " [ 93  13  76]]\n",
            "\n",
            "Transposed array:\n",
            "[[ 60  93  93]\n",
            " [ 26  60  13]\n",
            " [100  94  76]]\n"
          ]
        }
      ],
      "source": [
        "'''\n",
        "Practical Questions\n",
        "Q1. Create a 3x3 NumPy array with random integers between 1 and 100. Then, interchange its rows and columns.'''\n",
        "\n",
        "import numpy as np\n",
        "\n",
        "# Create a 3x3 NumPy array with random integers between 1 and 100\n",
        "array = np.random.randint(1, 101, size=(3, 3))\n",
        "\n",
        "# Print the original array\n",
        "print(\"Original array:\")\n",
        "print(array)\n",
        "\n",
        "# Interchange rows and columns (transpose the array)\n",
        "transposed_array = array.T\n",
        "\n",
        "# Print the transposed array\n",
        "print(\"\\nTransposed array:\")\n",
        "print(transposed_array)"
      ]
    },
    {
      "cell_type": "code",
      "source": [
        "'''\n",
        "Q2. Generate a 1D NumPy array with 10 elements. Reshape it into a 2x5 array, then into a 5x2 array. '''\n",
        "\n",
        "import numpy as np\n",
        "\n",
        "# Generate a 1D NumPy array with 10 elements\n",
        "array = np.arange(10)\n",
        "\n",
        "# Print the original array\n",
        "print(\"Original 1D array:\")\n",
        "print(array)\n",
        "\n",
        "# Reshape the array into a 2x5 array\n",
        "reshaped_2x5 = array.reshape(2, 5)\n",
        "print(\"\\nReshaped to 2x5 array:\")\n",
        "print(reshaped_2x5)\n",
        "\n",
        "# Reshape the array into a 5x2 array\n",
        "reshaped_5x2 = array.reshape(5, 2)\n",
        "print(\"\\nReshaped to 5x2 array:\")\n",
        "print(reshaped_5x2)"
      ],
      "metadata": {
        "colab": {
          "base_uri": "https://localhost:8080/"
        },
        "id": "NUq3wOo2r40f",
        "outputId": "7b499e05-a96a-4317-f7d0-da58beff32ca"
      },
      "execution_count": 2,
      "outputs": [
        {
          "output_type": "stream",
          "name": "stdout",
          "text": [
            "Original 1D array:\n",
            "[0 1 2 3 4 5 6 7 8 9]\n",
            "\n",
            "Reshaped to 2x5 array:\n",
            "[[0 1 2 3 4]\n",
            " [5 6 7 8 9]]\n",
            "\n",
            "Reshaped to 5x2 array:\n",
            "[[0 1]\n",
            " [2 3]\n",
            " [4 5]\n",
            " [6 7]\n",
            " [8 9]]\n"
          ]
        }
      ]
    },
    {
      "cell_type": "code",
      "source": [
        "'''\n",
        "Q3. Create a 4x4 NumPy array with random float values. Add a border of zeros around it, resulting in a 6x6 array. '''\n",
        "\n",
        "import numpy as np\n",
        "\n",
        "# Create a 4x4 NumPy array with random float values\n",
        "array = np.random.random((4, 4))\n",
        "\n",
        "# Print the original array\n",
        "print(\"Original 4x4 array:\")\n",
        "print(array)\n",
        "\n",
        "# Add a border of zeros around the array\n",
        "bordered_array = np.pad(array, pad_width=1, mode='constant', constant_values=0)\n",
        "\n",
        "# Print the resulting 6x6 array\n",
        "print(\"\\n6x6 array with border of zeros:\")\n",
        "print(bordered_array)"
      ],
      "metadata": {
        "colab": {
          "base_uri": "https://localhost:8080/"
        },
        "id": "U6AYb3HMsBp4",
        "outputId": "d9dcb575-5474-4025-e4d7-3361f96b4a6c"
      },
      "execution_count": 3,
      "outputs": [
        {
          "output_type": "stream",
          "name": "stdout",
          "text": [
            "Original 4x4 array:\n",
            "[[0.82065564 0.82228856 0.90947933 0.27801937]\n",
            " [0.06053764 0.44973694 0.66280862 0.77295092]\n",
            " [0.98849543 0.67723394 0.45396874 0.9171393 ]\n",
            " [0.82706111 0.419608   0.38314219 0.58103903]]\n",
            "\n",
            "6x6 array with border of zeros:\n",
            "[[0.         0.         0.         0.         0.         0.        ]\n",
            " [0.         0.82065564 0.82228856 0.90947933 0.27801937 0.        ]\n",
            " [0.         0.06053764 0.44973694 0.66280862 0.77295092 0.        ]\n",
            " [0.         0.98849543 0.67723394 0.45396874 0.9171393  0.        ]\n",
            " [0.         0.82706111 0.419608   0.38314219 0.58103903 0.        ]\n",
            " [0.         0.         0.         0.         0.         0.        ]]\n"
          ]
        }
      ]
    },
    {
      "cell_type": "code",
      "source": [
        "'''\n",
        "Q4. Using NumPy, create an array of integers from 10 to 60 with a step of 5.'''\n",
        "\n",
        "\n",
        "import numpy as np\n",
        "# Create an array of integers from 10 to 60 with a step of 5\n",
        "array = np.arange(10, 61, 5)\n",
        "# Print the resulting array\n",
        "print(\"Array of integers from 10 to 60 with a step of 5:\")\n",
        "print(array)"
      ],
      "metadata": {
        "colab": {
          "base_uri": "https://localhost:8080/"
        },
        "id": "6u9i8JousQlE",
        "outputId": "bdc1d3c5-32d8-4405-f472-8993b0de166c"
      },
      "execution_count": 4,
      "outputs": [
        {
          "output_type": "stream",
          "name": "stdout",
          "text": [
            "Array of integers from 10 to 60 with a step of 5:\n",
            "[10 15 20 25 30 35 40 45 50 55 60]\n"
          ]
        }
      ]
    },
    {
      "cell_type": "code",
      "source": [
        "#Q5. Create a NumPy array of strings ['python', 'numpy', 'pandas']. Apply different case transformations (uppercase, lowercase, title case, etc.) to each element.\n",
        "\n",
        "import numpy as np\n",
        "\n",
        "# Create a NumPy array of strings\n",
        "array = np.array(['python', 'numpy', 'pandas'])\n",
        "\n",
        "# Apply different case transformations\n",
        "uppercase_array = np.char.upper(array)\n",
        "lowercase_array = np.char.lower(array)\n",
        "titlecase_array = np.char.title(array)\n",
        "\n",
        "# Print the original array and the transformed arrays\n",
        "print(\"Original array:\")\n",
        "print(array)\n",
        "\n",
        "print(\"\\nUppercase transformation:\")\n",
        "print(uppercase_array)\n",
        "\n",
        "print(\"\\nLowercase transformation:\")\n",
        "print(lowercase_array)\n",
        "\n",
        "print(\"\\nTitle case transformation:\")\n",
        "print(titlecase_array)"
      ],
      "metadata": {
        "colab": {
          "base_uri": "https://localhost:8080/"
        },
        "id": "AcDm0ix8sgWF",
        "outputId": "4ed00627-9214-4dfe-ef92-0761d1f1752b"
      },
      "execution_count": 5,
      "outputs": [
        {
          "output_type": "stream",
          "name": "stdout",
          "text": [
            "Original array:\n",
            "['python' 'numpy' 'pandas']\n",
            "\n",
            "Uppercase transformation:\n",
            "['PYTHON' 'NUMPY' 'PANDAS']\n",
            "\n",
            "Lowercase transformation:\n",
            "['python' 'numpy' 'pandas']\n",
            "\n",
            "Title case transformation:\n",
            "['Python' 'Numpy' 'Pandas']\n"
          ]
        }
      ]
    },
    {
      "cell_type": "code",
      "source": [
        "#Q6. Generate a NumPy array of words. Insert a space between each character of every word in the array.\n",
        "\n",
        "import numpy as np\n",
        "\n",
        "# Create a NumPy array of words\n",
        "words_array = np.array(['python', 'numpy', 'pandas'])\n",
        "\n",
        "# Insert a space between each character of every word\n",
        "spaced_words_array = np.char.join(' ', words_array)\n",
        "\n",
        "# Print the original array and the transformed array\n",
        "print(\"Original array:\")\n",
        "print(words_array)\n",
        "\n",
        "print(\"\\nArray with spaces between characters:\")\n",
        "print(spaced_words_array)"
      ],
      "metadata": {
        "colab": {
          "base_uri": "https://localhost:8080/"
        },
        "id": "jLNmZJhgslRf",
        "outputId": "8dfcebd2-9506-499f-eb4e-6a811f00f341"
      },
      "execution_count": 6,
      "outputs": [
        {
          "output_type": "stream",
          "name": "stdout",
          "text": [
            "Original array:\n",
            "['python' 'numpy' 'pandas']\n",
            "\n",
            "Array with spaces between characters:\n",
            "['p y t h o n' 'n u m p y' 'p a n d a s']\n"
          ]
        }
      ]
    },
    {
      "cell_type": "code",
      "source": [
        "#Q7. Create two 2D NumPy arrays and perform element-wise addition, subtraction, multiplication, and division.\n",
        "\n",
        "import numpy as np\n",
        "\n",
        "# Create two 2D NumPy arrays\n",
        "array1 = np.array([[1, 2, 3], [4, 5, 6]])\n",
        "array2 = np.array([[7, 8, 9], [10, 11, 12]])\n",
        "\n",
        "# Perform element-wise addition\n",
        "addition = array1 + array2\n",
        "\n",
        "# Perform element-wise subtraction\n",
        "subtraction = array1 - array2\n",
        "\n",
        "# Perform element-wise multiplication\n",
        "multiplication = array1 * array2\n",
        "\n",
        "# Perform element-wise division\n",
        "# Add a small constant to avoid division by zero if necessary\n",
        "division = array1 / (array2 + 1e-10)\n",
        "\n",
        "# Print the results\n",
        "print(\"Array 1:\")\n",
        "print(array1)\n",
        "\n",
        "print(\"\\nArray 2:\")\n",
        "print(array2)\n",
        "\n",
        "print(\"\\nElement-wise addition:\")\n",
        "print(addition)\n",
        "\n",
        "print(\"\\nElement-wise subtraction:\")\n",
        "print(subtraction)\n",
        "\n",
        "print(\"\\nElement-wise multiplication:\")\n",
        "print(multiplication)\n",
        "\n",
        "print(\"\\nElement-wise division:\")\n",
        "print(division)"
      ],
      "metadata": {
        "colab": {
          "base_uri": "https://localhost:8080/"
        },
        "id": "fFxtHO7xs3-z",
        "outputId": "b69f5048-7ac9-4376-8e6c-b119efe3b9db"
      },
      "execution_count": 7,
      "outputs": [
        {
          "output_type": "stream",
          "name": "stdout",
          "text": [
            "Array 1:\n",
            "[[1 2 3]\n",
            " [4 5 6]]\n",
            "\n",
            "Array 2:\n",
            "[[ 7  8  9]\n",
            " [10 11 12]]\n",
            "\n",
            "Element-wise addition:\n",
            "[[ 8 10 12]\n",
            " [14 16 18]]\n",
            "\n",
            "Element-wise subtraction:\n",
            "[[-6 -6 -6]\n",
            " [-6 -6 -6]]\n",
            "\n",
            "Element-wise multiplication:\n",
            "[[ 7 16 27]\n",
            " [40 55 72]]\n",
            "\n",
            "Element-wise division:\n",
            "[[0.14285714 0.25       0.33333333]\n",
            " [0.4        0.45454545 0.5       ]]\n"
          ]
        }
      ]
    },
    {
      "cell_type": "code",
      "source": [
        "#Q8. Use NumPy to create a 5x5 identity matrix, then extract its diagonal elements.\n",
        "\n",
        "import numpy as np\n",
        "\n",
        "# Create a 5x5 identity matrix\n",
        "identity_matrix = np.eye(5)\n",
        "\n",
        "# Extract the diagonal elements\n",
        "diagonal_elements = np.diagonal(identity_matrix)\n",
        "\n",
        "# Print the identity matrix and its diagonal elements\n",
        "print(\"5x5 Identity Matrix:\")\n",
        "print(identity_matrix)\n",
        "\n",
        "print(\"\\nDiagonal elements:\")\n",
        "print(diagonal_elements)"
      ],
      "metadata": {
        "colab": {
          "base_uri": "https://localhost:8080/"
        },
        "id": "JNbwAm6Zs9ab",
        "outputId": "51e31923-7915-4b1d-ab18-894be908e597"
      },
      "execution_count": 8,
      "outputs": [
        {
          "output_type": "stream",
          "name": "stdout",
          "text": [
            "5x5 Identity Matrix:\n",
            "[[1. 0. 0. 0. 0.]\n",
            " [0. 1. 0. 0. 0.]\n",
            " [0. 0. 1. 0. 0.]\n",
            " [0. 0. 0. 1. 0.]\n",
            " [0. 0. 0. 0. 1.]]\n",
            "\n",
            "Diagonal elements:\n",
            "[1. 1. 1. 1. 1.]\n"
          ]
        }
      ]
    },
    {
      "cell_type": "code",
      "source": [
        "#Q9. Generate a NumPy array of 100 random integers between 0 and 1000. Find and display all prime numbers in this array.\n",
        "\n",
        "import numpy as np\n",
        "\n",
        "# Generate a NumPy array of 100 random integers between 0 and 1000\n",
        "array = np.random.randint(0, 1001, size=100)\n",
        "\n",
        "# Define a function to check if a number is prime\n",
        "def is_prime(n):\n",
        "    if n <= 1:\n",
        "        return False\n",
        "    if n <= 3:\n",
        "        return True\n",
        "    if n % 2 == 0 or n % 3 == 0:\n",
        "        return False\n",
        "    i = 5\n",
        "    while i * i <= n:\n",
        "        if n % i == 0 or n % (i + 2) == 0:\n",
        "            return False\n",
        "        i += 6\n",
        "    return True\n",
        "\n",
        "# Find all prime numbers in the array\n",
        "prime_numbers = [num for num in array if is_prime(num)]\n",
        "\n",
        "# Print the array and the prime numbers found\n",
        "print(\"Array of random integers:\")\n",
        "print(array)\n",
        "\n",
        "print(\"\\nPrime numbers in the array:\")\n",
        "print(prime_numbers)"
      ],
      "metadata": {
        "colab": {
          "base_uri": "https://localhost:8080/"
        },
        "id": "PZ94jM2ItGAV",
        "outputId": "90a091b3-07ca-4a5e-b576-582939a16fae"
      },
      "execution_count": 9,
      "outputs": [
        {
          "output_type": "stream",
          "name": "stdout",
          "text": [
            "Array of random integers:\n",
            "[991 114  48 124   1 410 422 719 461 613 484 799 645 169 693 351 275 779\n",
            " 714  61 236 725 183 947 302 559 136 975 767 606 478 901 681 356 211 992\n",
            " 726 167 465 964 915 414 356 161 613 248 142 318 809 925 221 887  65 759\n",
            " 982 525 139 513 801  81 980 855 255 743 392  11   3 612 638 997 440   1\n",
            " 813  88 433 128 342 805 755 236 453 194 377 884 184 438 577 134 770 561\n",
            " 270 642 583  80 101 719 914 324 758 110]\n",
            "\n",
            "Prime numbers in the array:\n",
            "[991, 719, 461, 613, 61, 947, 211, 167, 613, 809, 887, 139, 743, 11, 3, 997, 433, 577, 101, 719]\n"
          ]
        }
      ]
    },
    {
      "cell_type": "code",
      "source": [
        "#Q10. Create a NumPy array representing daily temperatures for a month. Calculate and display the weekly averages.\n",
        "\n",
        "import numpy as np\n",
        "\n",
        "# Create a NumPy array representing daily temperatures for a month (30 days)\n",
        "# Here we use random temperatures between -10 and 35 degrees Celsius\n",
        "daily_temperatures = np.random.randint(-10, 36, size=30)\n",
        "\n",
        "# Reshape the array into a 2D array where each row represents a week\n",
        "# Assuming 5 weeks of 6 days each\n",
        "weekly_temperatures = daily_temperatures.reshape(5, 6)\n",
        "\n",
        "# Calculate the weekly averages\n",
        "weekly_averages = np.mean(weekly_temperatures, axis=1)\n",
        "\n",
        "# Print the daily temperatures and weekly averages\n",
        "print(\"Daily temperatures for the month:\")\n",
        "print(daily_temperatures)\n",
        "\n",
        "print(\"\\nWeekly temperatures:\")\n",
        "print(weekly_temperatures)\n",
        "\n",
        "print(\"\\nWeekly averages:\")\n",
        "print(weekly_averages)"
      ],
      "metadata": {
        "colab": {
          "base_uri": "https://localhost:8080/"
        },
        "id": "OrjAwi7otQzT",
        "outputId": "06c0e63e-b2f9-4c9e-cee2-379339b63cb2"
      },
      "execution_count": 10,
      "outputs": [
        {
          "output_type": "stream",
          "name": "stdout",
          "text": [
            "Daily temperatures for the month:\n",
            "[-7 19 13 -7 34 16 15 15 10  4 12 -5  3 18  1 13 25 -7 -3  0 11 34 23  1\n",
            " 14 31 -6 16 31 26]\n",
            "\n",
            "Weekly temperatures:\n",
            "[[-7 19 13 -7 34 16]\n",
            " [15 15 10  4 12 -5]\n",
            " [ 3 18  1 13 25 -7]\n",
            " [-3  0 11 34 23  1]\n",
            " [14 31 -6 16 31 26]]\n",
            "\n",
            "Weekly averages:\n",
            "[11.33333333  8.5         8.83333333 11.         18.66666667]\n"
          ]
        }
      ]
    }
  ]
}